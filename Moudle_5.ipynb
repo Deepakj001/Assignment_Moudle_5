{
 "cells": [
  {
   "cell_type": "code",
   "execution_count": null,
   "id": "fb37c858",
   "metadata": {},
   "outputs": [],
   "source": [
    "# Q NO. 1 Why Django should be used for web-development? \n",
    "# Explain how you can create a project in Django?\n",
    "#Ans.\n",
    "# Django is a high-level Python web framework that enables \n",
    "# rapid development of secure and maintainable websites. \n",
    "#Built by experienced developers, Django takes care of much of the hassle of web development, \n",
    "# so you can focus on writing your app without needing to reinvent the wheel."
   ]
  },
  {
   "cell_type": "code",
   "execution_count": null,
   "id": "543bf604",
   "metadata": {},
   "outputs": [],
   "source": [
    "# Q NO. 2 How to check installed version of django? \n",
    "#ANS.\n",
    "# The very first method to check the version of Django is simply to write python \n",
    "# -m django –version in your terminal. This code will return the version of your Django\n",
    "# in the format 3.2. 9.\n",
    "# If python doesn't work replace it with python3."
   ]
  },
  {
   "cell_type": "code",
   "execution_count": null,
   "id": "67950235",
   "metadata": {},
   "outputs": [],
   "source": [
    "# Q NO 3 Explain what does django-admin.py make messages command is used for? \n",
    "#ANS.\n",
    "# It creates (or updates) a message file in the conf/locale (in the Django tree) or locale \n",
    "# (for project and application) directory. After making changes to the messages files you need to \n",
    "# compile them with compilemessages for use with the builtin gettext support."
   ]
  },
  {
   "cell_type": "code",
   "execution_count": null,
   "id": "17fcaa1f",
   "metadata": {},
   "outputs": [],
   "source": [
    "# Q NO 4 What is Django URLs?make program to create django urls\n",
    "#ANS.\n",
    "# Every page on the Internet needs its own URL. This way your application knows what\n",
    "# it should show to a user who opens that URL. In Django, we use something called URLconf \n",
    "# (URL configuration). URLconf is a set of patterns that Django will try to match the requested \n",
    "# URL to find the correct view.\n"
   ]
  },
  {
   "cell_type": "code",
   "execution_count": null,
   "id": "0614b260",
   "metadata": {},
   "outputs": [],
   "source": [
    "# Q NO 5 What is a QuerySet?Write program to create a new Post object in database:\n",
    "#ANS.\n",
    "# A QuerySet is a collection of data from a database. A QuerySet is built up as a list of objects.\n",
    "# QuerySets makes it easier to get the data you actually need, by allowing you to filter and order \n",
    "# the data at an early stage."
   ]
  },
  {
   "cell_type": "code",
   "execution_count": null,
   "id": "fa5a49c4",
   "metadata": {},
   "outputs": [],
   "source": [
    "# Q NO. 6 Mention what command line can be used to load data into Django?\n",
    "#ANS.\n",
    "# Django-admin.py loaddata\n",
    "# Ans: To load data into Django you have to use the command line Django-admin.py loaddata.\n",
    " #   The command line will searches the data and loads the contents of the named fixtures into \n",
    "  #  the database."
   ]
  },
  {
   "cell_type": "code",
   "execution_count": null,
   "id": "c77d0aa3",
   "metadata": {},
   "outputs": [],
   "source": [
    "# Q no. 7 Explain what does django-admin.py make messages command is use  for? \n",
    "#ANS.\n",
    "# It creates (or updates) a message file in the conf/locale (in the Django tree) \n",
    "# or locale (for project and application) directory. After making changes to the messages \n",
    "# files you need to compile them with compilemessages for use with the builtin gettext support."
   ]
  },
  {
   "cell_type": "code",
   "execution_count": null,
   "id": "7d3236d3",
   "metadata": {},
   "outputs": [],
   "source": [
    "# Q NO. 8 Make Django application to demonstrate following things o There will\n",
    "# be 2 modules(Admin,Product manager) o Admin can add product name\n",
    "# (ex.Product id and product name) ex. (1, Samsung), (2, Apple)...etc.\n",
    "# Data should store in\n"
   ]
  },
  {
   "cell_type": "code",
   "execution_count": null,
   "id": "2327ad7a",
   "metadata": {},
   "outputs": [],
   "source": [
    "# Q NO. 9 Product_mst table with product id as primary key o Admin can add product subcategory\n",
    "# details Like (Product price, product image,\n",
    "# Product model, product Ram) data should store in Product_sub_cat table o Admin can get product name \n",
    "# as foreign key from product_mst table in product_sub_category_details page Admin can\n",
    "# view, update and delete all registered details of product manager can\n",
    "# search product on search bar and get all details about product "
   ]
  },
  {
   "cell_type": "code",
   "execution_count": null,
   "id": "b134ddff",
   "metadata": {},
   "outputs": [],
   "source": []
  },
  {
   "cell_type": "code",
   "execution_count": null,
   "id": "22f7f37d",
   "metadata": {},
   "outputs": [],
   "source": []
  }
 ],
 "metadata": {
  "kernelspec": {
   "display_name": "Python 3 (ipykernel)",
   "language": "python",
   "name": "python3"
  },
  "language_info": {
   "codemirror_mode": {
    "name": "ipython",
    "version": 3
   },
   "file_extension": ".py",
   "mimetype": "text/x-python",
   "name": "python",
   "nbconvert_exporter": "python",
   "pygments_lexer": "ipython3",
   "version": "3.10.9"
  }
 },
 "nbformat": 4,
 "nbformat_minor": 5
}
